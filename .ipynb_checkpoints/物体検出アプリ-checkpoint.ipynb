{
 "cells": [
  {
   "cell_type": "code",
   "execution_count": null,
   "id": "c6314b09-ac24-4c40-8883-44847919495c",
   "metadata": {},
   "outputs": [],
   "source": [
    "!pip install --upgrade azure-cognitiveservices-vision-computervision"
   ]
  },
  {
   "cell_type": "code",
   "execution_count": 3,
   "id": "bc72f704-2c6c-4989-9919-117ba6a4cc76",
   "metadata": {},
   "outputs": [],
   "source": [
    "from azure.cognitiveservices.vision.computervision import ComputerVisionClient\n",
    "from azure.cognitiveservices.vision.computervision.models import OperationStatusCodes\n",
    "from azure.cognitiveservices.vision.computervision.models import VisualFeatureTypes\n",
    "from msrest.authentication import CognitiveServicesCredentials\n",
    "\n",
    "from array import array\n",
    "import os\n",
    "from PIL import Image\n",
    "import sys\n",
    "import time\n",
    "\n",
    "import json"
   ]
  },
  {
   "cell_type": "code",
   "execution_count": 10,
   "id": "26d9c926-8a23-4cd1-92e7-fa31ff983da7",
   "metadata": {},
   "outputs": [],
   "source": [
    "\"\"\"\n",
    " secret_key作成\n",
    "\n",
    "import json\n",
    "import codecs\n",
    "\n",
    "secret_keys ={\n",
    "    'KEY':'97c5b9fedbd3434282b212197b52a5d7',\n",
    "    'ENDPOINT':'https://2023-12-24-ucchii.cognitiveservices.azure.com/'}\n",
    "\n",
    "\n",
    "with open('secret.json', 'w', encoding='utf-8') as f:\n",
    "    json.dump(secret_keys, f, ensure_ascii=False)\n",
    "    \n",
    "\"\"\""
   ]
  },
  {
   "cell_type": "code",
   "execution_count": 13,
   "id": "1b54e893-d2fb-45a5-8e47-3db184683ab4",
   "metadata": {},
   "outputs": [],
   "source": [
    "with open('secret.json') as f:\n",
    "    secret = json.load(f)"
   ]
  },
  {
   "cell_type": "code",
   "execution_count": 14,
   "id": "c6bb1b12-385d-44e0-a149-3e74f4dc1f17",
   "metadata": {},
   "outputs": [],
   "source": [
    "KEY = secret['KEY']\n",
    "ENDPOINT = secret['ENDPOINT']"
   ]
  },
  {
   "cell_type": "code",
   "execution_count": 16,
   "id": "618e69ac-ec6a-49ee-9523-e33ed06dc323",
   "metadata": {},
   "outputs": [],
   "source": [
    "#認証させる\n",
    "computervision_client = ComputerVisionClient(ENDPOINT, CognitiveServicesCredentials(KEY))"
   ]
  },
  {
   "cell_type": "code",
   "execution_count": 20,
   "id": "e87b6c19-3f87-45d4-9027-1cd5a02f94ed",
   "metadata": {},
   "outputs": [],
   "source": [
    "#画像を指定\n",
    "remote_image_url = \"https://learn.microsoft.com/azure/ai-services/computer-vision/media/quickstarts/presentation.png\""
   ]
  },
  {
   "cell_type": "code",
   "execution_count": 23,
   "id": "23fd7ab0-b7bb-4465-b3a4-14f2b6d412be",
   "metadata": {},
   "outputs": [
    {
     "name": "stdout",
     "output_type": "stream",
     "text": [
      "===== Describe an image - remote =====\n",
      "Description remote image: \n",
      "'a man pointing at a screen' with confidence 50.99%\n",
      "\n"
     ]
    }
   ],
   "source": [
    "print(\"===== Describe an image - remote =====\")\n",
    "\n",
    "#認証を得た機能を使い画像を説明させる\n",
    "description_results = computervision_client.describe_image(remote_image_url )\n",
    "\n",
    "#description_resultsの中のcaptions(プロパティ)の長さが0だったら何も検知せず、0以上だったら検知して下記elseのfor文を回す。\n",
    "print(\"Description remote image: \")\n",
    "\n",
    "if (len(description_results.captions) == 0):\n",
    "    print(\"No description detected.\")\n",
    "else:\n",
    "    #captionを検知したらcaptionのtextと計算した正答率(confidenceの確立を%表示の100倍する)をformat関数を使用して代入している。\n",
    "    for caption in description_results.captions:\n",
    "        print(\"'{}' with confidence {:.2f}%\".format(caption.text, caption.confidence * 100))\n",
    "print()"
   ]
  },
  {
   "cell_type": "markdown",
   "id": "3c4fbf13-bb69-4564-b80c-146e494bb3e1",
   "metadata": {
    "tags": []
   },
   "source": [
    "##　画像カテゴリの取得\n"
   ]
  },
  {
   "cell_type": "code",
   "execution_count": 33,
   "id": "4fea2c1d-afbe-4ee3-a1b0-daf7e11c4a23",
   "metadata": {},
   "outputs": [
    {
     "name": "stdout",
     "output_type": "stream",
     "text": [
      "===== categorize an image - remote =====\n",
      "Categories from remote image: \n",
      "'others_' with confidence 2.34%\n",
      "'object_screen' with confidence 91.80%\n",
      "\n"
     ]
    }
   ],
   "source": [
    "print(\"===== categorize an image - remote =====\")\n",
    "\n",
    "#画像を分類するための情報がcategoriesに入っており、リスト化されている\n",
    "remote_image_features = [\"categories\"]\n",
    "\n",
    "#analyze_imageに画像と↑のリストを渡して分析する\n",
    "categories_results_remote = computervision_client.analyze_image(remote_image_url , remote_image_features)\n",
    "\n",
    "# Print results with confidence score\n",
    "print(\"Categories from remote image: \")\n",
    "\n",
    "if (len(categories_results_remote.categories) == 0):\n",
    "    print(\"No categories detected.\")\n",
    "else:\n",
    "    for category in categories_results_remote.categories:\n",
    "        print(\"'{}' with confidence {:.2f}%\".format(category.name, category.score * 100))\n",
    "print()\n"
   ]
  },
  {
   "cell_type": "markdown",
   "id": "41d45916-b16b-4509-b219-be8488d293f5",
   "metadata": {
    "tags": []
   },
   "source": [
    "## 画像タグの取得"
   ]
  },
  {
   "cell_type": "code",
   "execution_count": null,
   "id": "6f370794-cee4-4b24-831c-21334f5e5466",
   "metadata": {
    "tags": []
   },
   "outputs": [
    {
     "name": "stdout",
     "output_type": "stream",
     "text": [
      "Tags in the remote image: \n",
      "'text' with confidence 99.66%\n",
      "'clothing' with confidence 98.01%\n",
      "'person' with confidence 95.96%\n",
      "'display device' with confidence 94.90%\n",
      "'indoor' with confidence 94.75%\n",
      "'wall' with confidence 93.96%\n",
      "'media' with confidence 93.06%\n",
      "'television set' with confidence 92.81%\n",
      "'led-backlit lcd display' with confidence 92.55%\n",
      "'flat panel display' with confidence 92.09%\n",
      "'furniture' with confidence 91.33%\n",
      "'lcd tv' with confidence 89.51%\n",
      "'man' with confidence 88.84%\n",
      "'television' with confidence 87.66%\n",
      "'video' with confidence 87.47%\n",
      "'multimedia' with confidence 87.19%\n",
      "'output device' with confidence 85.86%\n",
      "'computer monitor' with confidence 84.42%\n",
      "'table' with confidence 84.30%\n",
      "'screen' with confidence 71.13%\n",
      "'standing' with confidence 70.51%\n",
      "'design' with confidence 40.42%\n"
     ]
    }
   ],
   "source": [
    "print(\"===== Tag an image - remote =====\")\n",
    "\n",
    "tags_result_remote = computervision_client.tag_image(remote_image_url)\n",
    "\n",
    "print(\"Tags in the remote image: \")\n",
    "\n",
    "if (len(tags_result_remote.tags) == 0):\n",
    "    print(\"No tags detected.\")\n",
    "else:\n",
    "    for tag in tags_result_remote.tags:\n",
    "        print(\"'{}' with confidence {:.2f}%\".format(tag.name, tag.confidence * 100))\n"
   ]
  },
  {
   "cell_type": "markdown",
   "id": "4af08345-ddc5-41fb-a193-7d08515f2bca",
   "metadata": {
    "tags": []
   },
   "source": [
    "## オブジェクト検出"
   ]
  },
  {
   "cell_type": "code",
   "execution_count": 52,
   "id": "c10c3117-bf41-47b4-b59b-cc345039f8b1",
   "metadata": {},
   "outputs": [
    {
     "name": "stdout",
     "output_type": "stream",
     "text": [
      "Detecting objects in remote image:\n",
      "object at location 655, 918, 83, 688\n",
      "object at location 75, 753, 76, 490\n"
     ]
    }
   ],
   "source": [
    "print(\"===== Detect Objects - remote ====\")\n",
    "\n",
    "remote_image_url_objects = \"https://learn.microsoft.com/azure/ai-services/computer-vision/media/quickstarts/presentation.png\"\n",
    "detect_objects_results_remote = computervision_client.detect_objects(remote_image_url_objects)\n",
    "\n",
    "print(\"Detecting objects in remote image: \")\n",
    "\n",
    "if len(detect_objects_results_remote.objects) == 0:\n",
    "    print(\"No objects detected.\")\n",
    "else:\n",
    "    for object in detect_objects_results_remote.objects:\n",
    "        print(\"object at location {}, {}, {}, {}\".format( \\\n",
    "        object.rectangle.x, object.rectangle.x + object.rectangle.w, \\\n",
    "        object.rectangle.y, object.rectangle.y + object.rectangle.h))\n"
   ]
  },
  {
   "cell_type": "markdown",
   "id": "29648f49-6180-4bdf-bc15-20eb7f06b58b",
   "metadata": {},
   "source": [
    "## ローカルファイルに対応させる"
   ]
  },
  {
   "cell_type": "code",
   "execution_count": 54,
   "id": "7bb57a78-7408-4e62-bde0-f9bfbc8e8970",
   "metadata": {},
   "outputs": [
    {
     "name": "stdout",
     "output_type": "stream",
     "text": [
      "===== Detect Objects - local ====\n",
      "Detecting objects in local image:\n",
      "object at location 326, 1005, 3083, 3493\n",
      "object at location 98, 3024, 335, 3048\n"
     ]
    }
   ],
   "source": [
    "local_image_path = \"IMG_6620.jpg\"\n",
    "local_image = open(local_image_path, \"rb\")\n",
    "\n",
    "print(\"===== Detect Objects - local ====\")\n",
    "\n",
    "detect_objects_results = computervision_client.detect_objects_in_stream(local_image)\n",
    "\n",
    "print(\"Detecting objects in local image:\")\n",
    "\n",
    "if len(detect_objects_results.objects) == 0:\n",
    "    print(\"No objects detected.\")\n",
    "else:\n",
    "    for object in detect_objects_results.objects:\n",
    "        print(\"object at location {}, {}, {}, {}\".format( \\\n",
    "        object.rectangle.x, object.rectangle.x + object.rectangle.w, \\\n",
    "        object.rectangle.y, object.rectangle.y + object.rectangle.h))\n"
   ]
  },
  {
   "cell_type": "code",
   "execution_count": null,
   "id": "58933620-04de-47e5-8c92-10f5b1b84a46",
   "metadata": {},
   "outputs": [],
   "source": []
  },
  {
   "cell_type": "code",
   "execution_count": null,
   "id": "34220c13-6189-47ac-8425-3a27186830b1",
   "metadata": {},
   "outputs": [],
   "source": []
  },
  {
   "cell_type": "code",
   "execution_count": null,
   "id": "3a157f36-3ad0-46a9-8061-1c37934d2bf0",
   "metadata": {},
   "outputs": [],
   "source": []
  },
  {
   "cell_type": "code",
   "execution_count": null,
   "id": "21d82cd7-033e-418e-88df-aa7feebcebf8",
   "metadata": {},
   "outputs": [],
   "source": []
  },
  {
   "cell_type": "code",
   "execution_count": null,
   "id": "4af32074-f156-4712-bc65-fbf16120077c",
   "metadata": {},
   "outputs": [],
   "source": []
  },
  {
   "cell_type": "code",
   "execution_count": null,
   "id": "51611663-a3fa-46b2-a4cd-be95d0c0030e",
   "metadata": {},
   "outputs": [],
   "source": []
  },
  {
   "cell_type": "code",
   "execution_count": null,
   "id": "3afa8cd3-1a0f-4a78-ae9b-b9c4ac26e16e",
   "metadata": {},
   "outputs": [],
   "source": []
  },
  {
   "cell_type": "code",
   "execution_count": null,
   "id": "385348ff-a611-496e-895b-ab498109ccb2",
   "metadata": {},
   "outputs": [],
   "source": []
  },
  {
   "cell_type": "code",
   "execution_count": null,
   "id": "ccb3d307-e92a-49fc-8238-b3c2c255afa5",
   "metadata": {},
   "outputs": [],
   "source": []
  },
  {
   "cell_type": "code",
   "execution_count": null,
   "id": "e98897d9-058f-493c-87ec-34b43e7401ad",
   "metadata": {},
   "outputs": [],
   "source": []
  },
  {
   "cell_type": "code",
   "execution_count": null,
   "id": "69b15aee-b4a1-470b-84af-b42f6940868b",
   "metadata": {},
   "outputs": [],
   "source": []
  },
  {
   "cell_type": "code",
   "execution_count": null,
   "id": "d816a3a0-df04-4557-a947-7b460ce3dc53",
   "metadata": {},
   "outputs": [],
   "source": []
  },
  {
   "cell_type": "code",
   "execution_count": null,
   "id": "877ed4c9-5723-4eab-abf4-12f8fa33ac66",
   "metadata": {},
   "outputs": [],
   "source": []
  },
  {
   "cell_type": "code",
   "execution_count": null,
   "id": "97c36776-381b-438a-904c-66e4145ad6ae",
   "metadata": {},
   "outputs": [],
   "source": []
  },
  {
   "cell_type": "code",
   "execution_count": null,
   "id": "1a9a75d7-71ea-4697-bfd2-106cd6b9bd34",
   "metadata": {},
   "outputs": [],
   "source": []
  },
  {
   "cell_type": "code",
   "execution_count": null,
   "id": "ea8cb13c-03e6-4b4f-a47e-4dc8cd6af0d3",
   "metadata": {},
   "outputs": [],
   "source": []
  },
  {
   "cell_type": "code",
   "execution_count": null,
   "id": "ce2f2fa1-7224-4956-a6a8-6df0c71d47fc",
   "metadata": {},
   "outputs": [],
   "source": []
  },
  {
   "cell_type": "code",
   "execution_count": null,
   "id": "bf83b350-8669-4537-9d02-92b2d43b1ca4",
   "metadata": {},
   "outputs": [],
   "source": []
  },
  {
   "cell_type": "code",
   "execution_count": null,
   "id": "43743ac7-07c8-4b59-b8f0-40cf638e7fd6",
   "metadata": {},
   "outputs": [],
   "source": []
  },
  {
   "cell_type": "code",
   "execution_count": null,
   "id": "5bfb10a4-490c-41c8-b2b2-4991c832d6c2",
   "metadata": {},
   "outputs": [],
   "source": []
  },
  {
   "cell_type": "code",
   "execution_count": null,
   "id": "8ea78571-be79-4c6c-92b2-ec12b2e07a2b",
   "metadata": {},
   "outputs": [],
   "source": []
  }
 ],
 "metadata": {
  "kernelspec": {
   "display_name": "Python 3 (ipykernel)",
   "language": "python",
   "name": "python3"
  },
  "language_info": {
   "codemirror_mode": {
    "name": "ipython",
    "version": 3
   },
   "file_extension": ".py",
   "mimetype": "text/x-python",
   "name": "python",
   "nbconvert_exporter": "python",
   "pygments_lexer": "ipython3",
   "version": "3.10.9"
  }
 },
 "nbformat": 4,
 "nbformat_minor": 5
}
